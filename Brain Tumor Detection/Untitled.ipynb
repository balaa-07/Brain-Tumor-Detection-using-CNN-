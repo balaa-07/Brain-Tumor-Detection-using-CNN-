{
 "cells": [
  {
   "cell_type": "code",
   "execution_count": 11,
   "id": "51f9876c-8140-4792-962c-519d968c4752",
   "metadata": {},
   "outputs": [],
   "source": [
    "import os\n",
    "import numpy as np\n",
    "import pandas as pd\n",
    "import seaborn as sns\n",
    "import matplotlib.pyplot as plt\n",
    "import tensorflow as tf\n",
    "from tensorflow.keras.preprocessing.image import ImageDataGenerator\n",
    "from tensorflow.keras.models import Sequential\n",
    "from tensorflow.keras.layers import Conv2D, MaxPooling2D, Flatten, Dense, Dropout"
   ]
  },
  {
   "cell_type": "code",
   "execution_count": 23,
   "id": "4343a22f-0a2f-4a0c-9378-76c382182dc3",
   "metadata": {},
   "outputs": [
    {
     "ename": "FileNotFoundError",
     "evalue": "[Errno 2] No such file or directory: '/kaggle/input/brain-tumor-mri-dataset/https/kaggle/input/brain-tumor-mri-dataset/Training/glioma'",
     "output_type": "error",
     "traceback": [
      "\u001b[0;31m---------------------------------------------------------------------------\u001b[0m",
      "\u001b[0;31mFileNotFoundError\u001b[0m                         Traceback (most recent call last)",
      "Cell \u001b[0;32mIn[23], line 14\u001b[0m\n\u001b[1;32m     12\u001b[0m \u001b[38;5;28;01mfor\u001b[39;00m category \u001b[38;5;129;01min\u001b[39;00m categories:\n\u001b[1;32m     13\u001b[0m     folder_path \u001b[38;5;241m=\u001b[39m os\u001b[38;5;241m.\u001b[39mpath\u001b[38;5;241m.\u001b[39mjoin(train_dir, category)\n\u001b[0;32m---> 14\u001b[0m     images \u001b[38;5;241m=\u001b[39m os\u001b[38;5;241m.\u001b[39mlistdir(folder_path)\n\u001b[1;32m     15\u001b[0m     count \u001b[38;5;241m=\u001b[39m \u001b[38;5;28mlen\u001b[39m(images)\n\u001b[1;32m     16\u001b[0m     train_data\u001b[38;5;241m.\u001b[39mappend(pd\u001b[38;5;241m.\u001b[39mDataFrame({\u001b[38;5;124m\"\u001b[39m\u001b[38;5;124mImage\u001b[39m\u001b[38;5;124m\"\u001b[39m: images, \u001b[38;5;124m\"\u001b[39m\u001b[38;5;124mCategory\u001b[39m\u001b[38;5;124m\"\u001b[39m: [category] \u001b[38;5;241m*\u001b[39m count, \u001b[38;5;124m\"\u001b[39m\u001b[38;5;124mCount\u001b[39m\u001b[38;5;124m\"\u001b[39m: [count] \u001b[38;5;241m*\u001b[39m count}))\n",
      "\u001b[0;31mFileNotFoundError\u001b[0m: [Errno 2] No such file or directory: '/kaggle/input/brain-tumor-mri-dataset/https/kaggle/input/brain-tumor-mri-dataset/Training/glioma'"
     ]
    }
   ],
   "source": [
    "# Set the path to the dataset\n",
    "dataset_path = \"/kaggle/input/brain-tumor-mri-dataset\"\n",
    "\n",
    "# Define the training and testing directories\n",
    "train_dir = os.path.join(dataset_path, \"https/kaggle/input/brain-tumor-mri-dataset/Training\")\n",
    "test_dir = os.path.join(dataset_path, \"https/kaggle/input/brain-tumor-mri-dataset/Testing\")\n",
    "\n",
    "# Define the categories\n",
    "categories = [\"glioma\", \"meningioma\", \"notumor\", \"pituitary\"]\n",
    "# Load and preprocess the dataset\n",
    "train_data = []\n",
    "for category in categories:\n",
    "    folder_path = os.path.join(train_dir, category)\n",
    "    images = os.listdir(folder_path)\n",
    "    count = len(images)\n",
    "    train_data.append(pd.DataFrame({\"Image\": images, \"Category\": [category] * count, \"Count\": [count] * count}))\n",
    "\n",
    "train_df = pd.concat(train_data, ignore_index=True)\n",
    "\n",
    "# Visualize the distribution of tumor types in the training dataset\n",
    "plt.figure(figsize=(8, 6))\n",
    "sns.barplot(data=train_df, x=\"Category\", y=\"Count\")\n",
    "plt.title(\"Distribution of Tumor Types\")\n",
    "plt.xlabel(\"Tumor Type\")\n",
    "plt.ylabel(\"Count\")\n",
    "plt.show()\n",
    "# Visualize sample images for each tumor type\n",
    "plt.figure(figsize=(12, 8))\n",
    "for i, category in enumerate(categories):\n",
    "    folder_path = os.path.join(train_dir, category)\n",
    "    image_path = os.path.join(folder_path, os.listdir(folder_path)[0])\n",
    "    img = plt.imread(image_path)\n",
    "    plt.subplot(2, 2, i+1)\n",
    "    plt.imshow(img)\n",
    "    plt.title(category)\n",
    "    plt.axis(\"off\")\n",
    "plt.tight_layout()\n",
    "plt.show()\n",
    "# Visualize sample images for each tumor type\n",
    "plt.figure(figsize=(12, 8))\n",
    "for i, category in enumerate(categories):\n",
    "    folder_path = os.path.join(train_dir, category)\n",
    "    image_path = os.path.join(folder_path, os.listdir(folder_path)[0])\n",
    "    img = plt.imread(image_path)\n",
    "    plt.subplot(2, 2, i+1)\n",
    "    plt.imshow(img)\n",
    "    plt.title(category)\n",
    "    plt.axis(\"off\")\n",
    "plt.tight_layout()\n",
    "plt.show()"
   ]
  },
  {
   "cell_type": "code",
   "execution_count": null,
   "id": "fccda7cf-7ce4-4ea4-96ca-24d1546d3a4e",
   "metadata": {},
   "outputs": [],
   "source": []
  },
  {
   "cell_type": "code",
   "execution_count": null,
   "id": "618388ee-af96-4b2b-b8ab-e29248cf62b7",
   "metadata": {},
   "outputs": [],
   "source": []
  }
 ],
 "metadata": {
  "kernelspec": {
   "display_name": "Python 3 (ipykernel)",
   "language": "python",
   "name": "python3"
  },
  "language_info": {
   "codemirror_mode": {
    "name": "ipython",
    "version": 3
   },
   "file_extension": ".py",
   "mimetype": "text/x-python",
   "name": "python",
   "nbconvert_exporter": "python",
   "pygments_lexer": "ipython3",
   "version": "3.12.7"
  }
 },
 "nbformat": 4,
 "nbformat_minor": 5
}
